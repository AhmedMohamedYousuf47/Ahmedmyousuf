{
 "cells": [
  {
   "cell_type": "code",
   "execution_count": 1,
   "id": "80770277-dd9a-4c6b-ab62-e1f1fb609b71",
   "metadata": {},
   "outputs": [],
   "source": [
    "import pandas as pd"
   ]
  },
  {
   "cell_type": "markdown",
   "id": "fc8cd3ef-7112-4be6-ba5a-20e620632987",
   "metadata": {},
   "source": [
    "# Create a markdown cell titled Notebook."
   ]
  },
  {
   "cell_type": "markdown",
   "id": "10e8f35c-44e3-48f3-a5f8-9558fb22f153",
   "metadata": {},
   "source": [
    "# Notebook\n",
    "\n",
    "This is your notebook section where you can jot down ideas, track experiments, and organize your work. Feel free to add text, code snippets, and any relevant notes!\n",
    "\n"
   ]
  },
  {
   "cell_type": "markdown",
   "id": "61c50cc4-1611-4694-8385-36e329b2fa5e",
   "metadata": {},
   "source": [
    "# Create a markdown cell for the intro"
   ]
  },
  {
   "cell_type": "markdown",
   "id": "ba036204-6702-494e-a90b-ff1dba206fe9",
   "metadata": {},
   "source": [
    "# Introduction\n",
    "\n",
    "Welcome to this notebook! In this section, we will explore key concepts, techniques, and analyses related to our project. This notebook serves as a comprehensive guide for understanding the workflow, visualizing data, and presenting findings. Let’s dive in!\n"
   ]
  },
  {
   "cell_type": "markdown",
   "id": "bf8dbfea-b078-4284-b414-71a03327d408",
   "metadata": {},
   "source": [
    "# Create a markdown cell to list data science languages"
   ]
  },
  {
   "cell_type": "markdown",
   "id": "343b2a47-9243-4e0d-a485-8568ebbcc1e8",
   "metadata": {},
   "source": [
    "# Data Science Languages\n",
    "\n",
    "Here is a list of popular programming languages used in data science:\n",
    "\n",
    "1. **Python**  \n",
    "   Widely used for its simplicity and extensive libraries (e.g., Pandas, NumPy, Matplotlib).\n",
    "\n",
    "2. **R**  \n",
    "   Preferred for statistical analysis and data visualization.\n",
    "\n",
    "3. **SQL**  \n",
    "   Essential for managing and querying relational databases.\n",
    "\n",
    "4. **Java**  \n",
    "   Often used in big data technologies (e.g., Apache Hadoop).\n",
    "\n",
    "5. **Scala**  \n",
    "   Commonly used with Apache Spark for big data processing.\n",
    "\n",
    "6. **Julia**  \n",
    "   Gaining popularity for high-performance numerical analysis.\n",
    "\n",
    "7. **JavaScript**  \n",
    "   Useful for data visualization on the web (e.g., D3.js).\n",
    "\n",
    "These languages each have their strengths and are chosen based on specific project requirements.\n"
   ]
  },
  {
   "cell_type": "markdown",
   "id": "32f768a2-987e-450b-b8ba-3cb77b095636",
   "metadata": {},
   "source": [
    "# Create a markdown cell to list data science libraries"
   ]
  },
  {
   "cell_type": "markdown",
   "id": "61d31fe2-51b9-4d7a-a1a1-daa1ab00a3e7",
   "metadata": {},
   "source": [
    "# Data Science Libraries\n",
    "\n",
    "Here are some of the most commonly used libraries in data science:\n",
    "\n",
    "1. **Pandas**  \n",
    "   For data manipulation and analysis, providing data structures like DataFrames.\n",
    "\n",
    "2. **NumPy**  \n",
    "   Essential for numerical computing and handling large multi-dimensional arrays.\n",
    "\n",
    "3. **Matplotlib**  \n",
    "   A plotting library used for creating static, interactive, and animated visualizations.\n",
    "\n",
    "4. **Seaborn**  \n",
    "   Built on Matplotlib, it simplifies the creation of attractive statistical graphics.\n",
    "\n",
    "5. **Scikit-learn**  \n",
    "   A powerful library for machine learning, providing tools for classification, regression, and clustering.\n",
    "\n",
    "6. **TensorFlow**  \n",
    "   An open-source framework for building machine learning and deep learning models.\n",
    "\n",
    "7. **Keras**  \n",
    "   A high-level neural networks API, running on top of TensorFlow for easy model building.\n",
    "\n",
    "8. **Statsmodels**  \n",
    "   For statistical modeling and hypothesis testing.\n",
    "\n",
    "9. **NLTK**  \n",
    "   The Natural Language Toolkit, used for natural language processing tasks.\n",
    "\n",
    "10. **PyTorch**  \n",
    "    Another popular framework for deep learning, known for its flexibility and dynamic computation graph.\n",
    "\n",
    "These libraries are crucial for various tasks in the data science workflow, from data manipulation to model deployment.\n"
   ]
  },
  {
   "cell_type": "markdown",
   "id": "dde526df-261a-4892-babd-aedbc5416966",
   "metadata": {},
   "source": [
    "# Create a markdown cell using the Data Science Tools table\n"
   ]
  },
  {
   "cell_type": "markdown",
   "id": "11d7a494-fdb0-43e8-a754-86cc58b673e0",
   "metadata": {},
   "source": [
    "# Data Science Tools\n",
    "\n",
    "Here is a table listing some popular data science tools along with their categories:\n",
    "\n",
    "| Tool               | Category           |\n",
    "|--------------------|--------------------|\n",
    "| Jupyter Notebook    | Development Environment |\n",
    "| RStudio             | Development Environment |\n",
    "| Apache Hadoop       | Big Data Processing |\n",
    "| Apache Spark        | Big Data Processing |\n",
    "| TensorFlow          | Machine Learning    |\n",
    "| PyTorch            | Machine Learning    |\n",
    "| Scikit-learn       | Machine Learning    |\n",
    "| Tableau             | Data Visualization  |\n",
    "| Matplotlib          | Data Visualization  |\n",
    "| Pandas             | Data Manipulation   |\n",
    "\n",
    "These tools are widely used in the data science community for various tasks, from data analysis to machine learning and visualization.\n"
   ]
  },
  {
   "cell_type": "markdown",
   "id": "11ab7e65-bfec-4713-8b47-31d2f79b3318",
   "metadata": {},
   "source": [
    "# Create a markdown cell to provide arithmetic expression examples"
   ]
  },
  {
   "cell_type": "markdown",
   "id": "9c53f099-8f3c-457d-9201-166b54202136",
   "metadata": {},
   "source": [
    "# Arithmetic Expression Examples\n",
    "\n",
    "Here are some examples of basic arithmetic expressions in Python:\n",
    "\n",
    "1. **Addition**  \n",
    "   ```python\n",
    "   result = 5 + 3  # Result: 8\n"
   ]
  },
  {
   "cell_type": "markdown",
   "id": "f43adeb5-d5a3-4418-b5e1-52e15a5f71be",
   "metadata": {},
   "source": [
    "# Create a code cell to multiply and add numbers"
   ]
  },
  {
   "cell_type": "code",
   "execution_count": 5,
   "id": "c495b7f6-6322-4bdd-a591-66084fb2fea2",
   "metadata": {},
   "outputs": [
    {
     "data": {
      "text/plain": [
       "25"
      ]
     },
     "execution_count": 5,
     "metadata": {},
     "output_type": "execute_result"
    }
   ],
   "source": [
    "# This code multiplies two numbers and then adds a third number to the product\n",
    "\n",
    "# Define the numbers\n",
    "a = 5\n",
    "b = 3\n",
    "c = 10\n",
    "\n",
    "# Multiply a and b\n",
    "product = a * b\n",
    "\n",
    "# Add c to the product\n",
    "result = product + c\n",
    "\n",
    "# Display the result\n",
    "result\n"
   ]
  },
  {
   "cell_type": "markdown",
   "id": "50bb5471-d0df-4c09-a691-c254e1737963",
   "metadata": {},
   "source": [
    "# Create a code cell to convert minutes to hours"
   ]
  },
  {
   "cell_type": "code",
   "execution_count": 6,
   "id": "8c8afd25-915e-461b-b2c4-9445e48cb86d",
   "metadata": {},
   "outputs": [
    {
     "data": {
      "text/plain": [
       "2.0"
      ]
     },
     "execution_count": 6,
     "metadata": {},
     "output_type": "execute_result"
    }
   ],
   "source": [
    "# This code converts minutes to hours\n",
    "\n",
    "# Define the number of minutes\n",
    "minutes = 120\n",
    "\n",
    "# Convert minutes to hours\n",
    "hours = minutes / 60\n",
    "\n",
    "# Display the result\n",
    "hours\n"
   ]
  },
  {
   "cell_type": "markdown",
   "id": "f71165d7-2253-4570-8387-19022e4fe6d4",
   "metadata": {},
   "source": [
    "# Enter the markdown cell for the target list"
   ]
  },
  {
   "cell_type": "markdown",
   "id": "3867f3e4-8516-4bac-821a-9616ad403e2f",
   "metadata": {},
   "source": [
    "# Target List\n",
    "\n",
    "Here is a list of targets we aim to achieve in our data science project:\n",
    "\n",
    "1. **Data Collection**  \n",
    "   Gather relevant data from various sources.\n",
    "\n",
    "2. **Data Cleaning**  \n",
    "   Ensure the data is clean and free of inconsistencies.\n",
    "\n",
    "3. **Exploratory Data Analysis (EDA)**  \n",
    "   Analyze the data to find patterns and insights.\n",
    "\n",
    "4. **Model Selection**  \n",
    "   Choose appropriate machine learning models for the task.\n",
    "\n",
    "5. **Model Training**  \n",
    "   Train the selected models on the training dataset.\n",
    "\n",
    "6. **Model Evaluation**  \n",
    "   Evaluate model performance using relevant metrics.\n",
    "\n",
    "7. **Deployment**  \n",
    "   Deploy the model for real-world use.\n",
    "\n",
    "8. **Monitoring and Maintenance**  \n",
    "   Continuously monitor the model's performance and update as necessary.\n",
    "\n",
    "These targets will guide our workflow and help ensure the success of our project.\n"
   ]
  },
  {
   "cell_type": "markdown",
   "id": "89c0a045-0865-4d6c-b933-b99d53d68980",
   "metadata": {},
   "source": [
    "# Create a markdown cell to indicate the author's name"
   ]
  },
  {
   "cell_type": "markdown",
   "id": "135cdd14-327d-49e7-8aea-ecae6a9016a4",
   "metadata": {},
   "source": [
    "# Author\n",
    "\n",
    "This notebook was created by **[Your Name]**.  \n",
    "Feel free to reach out for any questions or collaborations!\n"
   ]
  },
  {
   "cell_type": "markdown",
   "id": "7ee294bb-31f1-451f-8ad1-405cd99df4dc",
   "metadata": {},
   "source": []
  },
  {
   "cell_type": "code",
   "execution_count": null,
   "id": "c8f2e91d-725f-4346-9381-42e1c9b79297",
   "metadata": {},
   "outputs": [],
   "source": []
  },
  {
   "cell_type": "code",
   "execution_count": null,
   "id": "7be21416-c054-49a9-bbc4-ed52466963b0",
   "metadata": {},
   "outputs": [],
   "source": []
  }
 ],
 "metadata": {
  "kernelspec": {
   "display_name": "Python 3 (ipykernel)",
   "language": "python",
   "name": "python3"
  },
  "language_info": {
   "codemirror_mode": {
    "name": "ipython",
    "version": 3
   },
   "file_extension": ".py",
   "mimetype": "text/x-python",
   "name": "python",
   "nbconvert_exporter": "python",
   "pygments_lexer": "ipython3",
   "version": "3.12.4"
  }
 },
 "nbformat": 4,
 "nbformat_minor": 5
}
